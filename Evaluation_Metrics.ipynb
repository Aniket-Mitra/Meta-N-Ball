{
  "nbformat": 4,
  "nbformat_minor": 0,
  "metadata": {
    "colab": {
      "provenance": [],
      "authorship_tag": "ABX9TyPgVHRvpRuKrGjCidByrEET",
      "include_colab_link": true
    },
    "kernelspec": {
      "name": "python3",
      "display_name": "Python 3"
    },
    "language_info": {
      "name": "python"
    }
  },
  "cells": [
    {
      "cell_type": "markdown",
      "metadata": {
        "id": "view-in-github",
        "colab_type": "text"
      },
      "source": [
        "<a href=\"https://colab.research.google.com/github/Aniket-Mitra/Meta-N-Ball/blob/main/Evaluation_Metrics.ipynb\" target=\"_parent\"><img src=\"https://colab.research.google.com/assets/colab-badge.svg\" alt=\"Open In Colab\"/></a>"
      ]
    },
    {
      "cell_type": "code",
      "execution_count": null,
      "metadata": {
        "id": "lw5PX0SJm0Ic"
      },
      "outputs": [],
      "source": [
        "# test sets\n",
        "\n",
        "all_val=[]\n",
        "with open('GO_datains3_8feb/GO_test3_9feb.txt') as f: #HPO_test2_20feb.txt\n",
        "#with open('HPO_data_ins3_feb20/HPO_test3_20feb.txt') as f:\n",
        "#with open('GO_data_11/GO_test.txt') as f:\n",
        "\n",
        "        for line in f:\n",
        "         if 'RO_' not in line and 'Nothing' not in line and 'core#' not in line and 'ObjectPropertyChain' not in line:\n",
        "         #if 'Nothing'  in line:\n",
        "          x = line[:-1]\n",
        "          all_val.append(x.split())\n",
        "\n",
        "all_val[-1][1]=all_val[-1][1]+'>'\n",
        "all_val[-1]"
      ]
    },
    {
      "cell_type": "code",
      "source": [
        "df_dist=pd.read_pickle('HPO_results/EmEL_dir/hpo_100_-0.1_1000_clshpo_data_p2_Mall3.pkl') ##open class embeddings"
      ],
      "metadata": {
        "id": "NMUvx4Z0ph9W"
      },
      "execution_count": null,
      "outputs": []
    },
    {
      "cell_type": "markdown",
      "source": [
        "# VRP"
      ],
      "metadata": {
        "id": "XXcUEczOqrAn"
      }
    },
    {
      "cell_type": "code",
      "source": [
        "import numpy as np\n",
        "counta=0\n",
        "c2=[]\n",
        "for i in all_val:\n",
        " #if 'http' in i[0] and 'http' in i[1]:\n",
        "  #print(i)\n",
        " try:\n",
        "  c=np.array(df_dist[df_dist['classes']==i[0]]['embeddings'])[0][-1]\n",
        "  d=np.array(df_dist[df_dist['classes']==i[1]]['embeddings'])[0][-1]\n",
        "  #dist_bada=np.linalg.norm(c-d)\n",
        "  if d>c and d>0 and c>0:\n",
        "    counta+=1\n",
        " except:\n",
        "    c2.append(i)\n",
        "    pass\n",
        "counta/len(all_val)"
      ],
      "metadata": {
        "id": "RtRITyOlpnzc"
      },
      "execution_count": null,
      "outputs": []
    },
    {
      "cell_type": "markdown",
      "source": [
        "# TOP"
      ],
      "metadata": {
        "id": "R11TE10wsFDA"
      }
    },
    {
      "cell_type": "code",
      "source": [
        "countbad=0\n",
        "for i in all_val:\n",
        "  #print(i)\n",
        " try:\n",
        "  c=np.array(df_dist[df_dist['classes']==i[0]]['embeddings'])[0][:-1]\n",
        "  d=np.array(df_dist[df_dist['classes']==i[1]]['embeddings'])[0][:-1]\n",
        " #except:\n",
        "    #print(i)\n",
        "  #break\n",
        "  dist_bada=np.linalg.norm(c-d)\n",
        "  cr=np.array(df_dist[df_dist['classes']==i[0]]['embeddings'])[0][-1]\n",
        "  dr=np.array(df_dist[df_dist['classes']==i[1]]['embeddings'])[0][-1]\n",
        "  if dr>cr and dr>0 and cr>0:\n",
        "      rad_diff=dr-cr\n",
        "      if dist_bada<=rad_diff:\n",
        "        countbad+=1\n",
        " except:\n",
        "    pass\n",
        "  #dist_bad.append(dist_bada)\n",
        "print(countbad/len(all_val))"
      ],
      "metadata": {
        "id": "LmoHDQnQqxxF"
      },
      "execution_count": null,
      "outputs": []
    },
    {
      "cell_type": "markdown",
      "source": [
        "# ODC"
      ],
      "metadata": {
        "id": "UUtUf94BsMx3"
      }
    },
    {
      "cell_type": "code",
      "source": [
        "# run twice for emel++ and meta-n-ball\n",
        "\n",
        "import numpy as np\n",
        "import pandas as pd#GO_100_-0.1_1000_cls_godada11 (1).pkl\n",
        "#df_dist=pd.read_pickle('GO_results_or11Feb/EmEL_dir/GO_100_-0.1_1000_cls_GO_or3_11feb.pkl')\n",
        "df_dist=pd.read_pickle('GO_100_-0.1_1000_clsGO_data_p2_all3mar7.pkl')\n",
        "\n",
        "dist_bad1=[]\n",
        "aaa=[]\n",
        "ccc=0\n",
        "for i in all_val:\n",
        " #if i[0]=='<http://purl.obolibrary.org/obo/HP_5000041>' and i[1]=='<http://purl.obolibrary.org/obo/CL_0000788>':\n",
        "    #pass\n",
        "\n",
        " #else:\n",
        "  try:\n",
        "\n",
        " #if i[0] not in c2_c:\n",
        "   c=np.array(df_dist[df_dist['classes']==i[0]]['embeddings'])[0][:-1]\n",
        "   d=np.array(df_dist[df_dist['classes']==i[1]]['embeddings'])[0][:-1]\n",
        "   dist_bada=np.linalg.norm(c-d)\n",
        "   dist_bad1.append(dist_bada)\n",
        "  except:\n",
        "   ccc+=1\n",
        "   aaa.append(i)"
      ],
      "metadata": {
        "id": "aEZvi7NrsNUP"
      },
      "execution_count": null,
      "outputs": []
    },
    {
      "cell_type": "code",
      "source": [
        "d1=pd.DataFrame()\n",
        "d1['or']=dist_bad\n",
        "d1['nf1_31']=dist_bad1"
      ],
      "metadata": {
        "id": "DZB2pZ9Xs4d8"
      },
      "execution_count": null,
      "outputs": []
    },
    {
      "cell_type": "code",
      "source": [
        "d1.head()\n",
        "d2=pd.melt(d1)\n",
        "d2.rename(columns={'variable':'method','value':'distance'},inplace=True)\n",
        "d2.head()"
      ],
      "metadata": {
        "id": "TIrFjD1Us9t0"
      },
      "execution_count": null,
      "outputs": []
    },
    {
      "cell_type": "code",
      "source": [
        "import matplotlib.pyplot as plt\n",
        "import seaborn as sns\n",
        "\n",
        "sns.kdeplot(data=d2,x='distance',hue='method',shade=True)\n",
        "plt.show()"
      ],
      "metadata": {
        "id": "sFVFbYdws-Av"
      },
      "execution_count": null,
      "outputs": []
    },
    {
      "cell_type": "code",
      "source": [
        "stats.ttest_ind(d1['or'], d1['nf1_31'],alternative='greater') #1"
      ],
      "metadata": {
        "id": "pByLPZMcs_al"
      },
      "execution_count": null,
      "outputs": []
    }
  ]
}